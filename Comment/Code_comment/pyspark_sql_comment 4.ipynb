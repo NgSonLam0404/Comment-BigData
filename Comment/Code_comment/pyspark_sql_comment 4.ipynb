{
 "cells": [
  {
   "cell_type": "code",
   "execution_count": 21,
   "id": "647cf799-5a70-4e5a-8376-28f3ecf567eb",
   "metadata": {},
   "outputs": [
    {
     "name": "stdout",
     "output_type": "stream",
     "text": [
      "+------------------+\n",
      "|sum(solanxuathien)|\n",
      "+------------------+\n",
      "|                92|\n",
      "+------------------+\n",
      "\n"
     ]
    }
   ],
   "source": [
    "from pyspark.sql import SparkSession\n",
    "\n",
    "# tao mot phien session\n",
    "spark = SparkSession.builder.appName(\"SparkSQLExample\").getOrCreate()\n",
    "\n",
    "# tao dataframe tu file csv\n",
    "df = spark.read.csv(\"/home/group1/Desktop/data_.csv\", header=True)\n",
    "# df.show()\n",
    "\n",
    "# df.printSchema()\n",
    "\n",
    "df = spark.read.csv(\"/home/group1/Desktop/data_.csv\", header=True, inferSchema=True)\n",
    "# df.printSchema()\n",
    "\n",
    "# df.limit(5).show()\n",
    "\n",
    "# df.select('keyword', 'solanxuathien').limit(5).show()\n",
    "\n",
    "# df.where(df.solanxuathien > 5 ).show()\n",
    "\n",
    "# df.agg({'solanxuathien': 'sum'}).show()\n",
    "\n",
    "# df.groupby('title').agg({'solanxuathien' : 'sum'}).limit(1).show()\n",
    "\n",
    "df.filter(df.solanxuathien > 5).agg({'solanxuathien' : 'sum'}).show()\n",
    "\n",
    "spark.stop()\n"
   ]
  },
  {
   "cell_type": "code",
   "execution_count": 22,
   "id": "f92b4470-2a7a-4d7f-8b30-ce38fda5837f",
   "metadata": {},
   "outputs": [
    {
     "name": "stdout",
     "output_type": "stream",
     "text": [
      "+-------+-------------+\n",
      "|keyword|solanxuathien|\n",
      "+-------+-------------+\n",
      "|Ronaldo|           12|\n",
      "|     và|           12|\n",
      "+-------+-------------+\n",
      "\n"
     ]
    }
   ],
   "source": [
    "from pyspark.sql import SparkSession\n",
    "\n",
    "# Create a SparkSession\n",
    "spark = SparkSession.builder.appName(\"SparkSQLExample\").getOrCreate()\n",
    "\n",
    "# Create a DataFrame from a source (e.g., a CSV file)\n",
    "df = spark.read.csv(\"/home/group1/Desktop/data_.csv\", header=True, inferSchema=True)\n",
    "\n",
    "# tao dataframe duoi dang table sql tam thoi\n",
    "df.createOrReplaceTempView(\"mytable\")\n",
    "\n",
    "# Execute a SQL query\n",
    "\n",
    "# spark.sql('SELECT * FROM mytable').show()\n",
    "\n",
    "# spark.sql('SELECT * FROM mytable WHERE `solanxuathien` = 12').show()\n",
    "\n",
    "# tim keyword co so lan xuat hien cao nhat\n",
    "max_solanxuathien = spark.sql(\"SELECT MAX(solanxuathien) AS max_solanxuathien FROM mytable\").collect()[0][\"max_solanxuathien\"]\n",
    "max_solanxuathien = int(max_solanxuathien)\n",
    "spark.sql(f\"SELECT keyword, solanxuathien FROM mytable WHERE  solanxuathien = {max_solanxuathien}\").show()\n",
    "\n",
    "spark.stop()"
   ]
  },
  {
   "cell_type": "code",
   "execution_count": 5,
   "id": "16cddc09-3f5e-46dd-844d-ca06feec1fd6",
   "metadata": {},
   "outputs": [
    {
     "data": {
      "image/png": "[encoded data removed]",
      "text/plain": [
       "<Figure size 640x480 with 1 Axes>"
      ]
     },
     "metadata": {},
     "output_type": "display_data"
    }
   ],
   "source": [
    "import pandas as pd\n",
    "import matplotlib.pyplot as plt\n",
    "\n",
    "data = pd.read_csv('/home/group1/Desktop/data_.csv', delimiter=',', header=None,\n",
    "                   names=['keyword', 'title', 'soLanXuatHien'], skiprows=1)\n",
    "\n",
    "# Lấy 10 dòng đầu tiên\n",
    "first_10_rows = data.head(10)\n",
    "\n",
    "\n",
    "# Tạo danh sách các màu để gán cho từng cột\n",
    "colors = ['blue', 'green', 'red', 'purple', 'orange']\n",
    "\n",
    "# Vẽ biểu đồ cột\n",
    "plt.bar(first_10_rows['keyword'],first_10_rows['soLanXuatHien'],color=colors)\n",
    "\n",
    "\n",
    "plt.title('số lần xuất hiện của keyword')\n",
    "plt.xlabel('keyword')\n",
    "plt.ylabel('số lần xuất hiện')\n",
    "plt.show()\n"
   ]
  }
 ],
 "metadata": {
  "kernelspec": {
   "display_name": "Python 3 (ipykernel)",
   "language": "python",
   "name": "python3"
  },
  "language_info": {
   "codemirror_mode": {
    "name": "ipython",
    "version": 3
   },
   "file_extension": ".py",
   "mimetype": "text/x-python",
   "name": "python",
   "nbconvert_exporter": "python",
   "pygments_lexer": "ipython3",
   "version": "3.10.12"
  }
 },
 "nbformat": 4,
 "nbformat_minor": 5
}
