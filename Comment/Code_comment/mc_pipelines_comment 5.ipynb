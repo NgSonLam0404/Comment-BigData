{
  "nbformat": 4,
  "nbformat_minor": 0,
  "metadata": {
    "colab": {
      "provenance": []
    },
    "kernelspec": {
      "name": "python3",
      "display_name": "Python 3"
    },
    "language_info": {
      "name": "python"
    }
  },
  "cells": [
    {
      "cell_type": "code",
      "source": [
        "!pip install pyspark"
      ],
      "metadata": {
        "colab": {
          "base_uri": "https://localhost:8080/"
        },
        "id": "LfsTljdY47-v",
        "outputId": "f18d7cc7-d4db-4e4a-d003-883827bb34e8"
      },
      "execution_count": null,
      "outputs": [
        {
          "output_type": "stream",
          "name": "stdout",
          "text": [
            "Collecting pyspark\n",
            "  Downloading pyspark-3.5.0.tar.gz (316.9 MB)\n",
            "\u001b[2K     \u001b[90m━━━━━━━━━━━━━━━━━━━━━━━━━━━━━━━━━━━━━━━━\u001b[0m \u001b[32m316.9/316.9 MB\u001b[0m \u001b[31m4.5 MB/s\u001b[0m eta \u001b[36m0:00:00\u001b[0m\n",
            "\u001b[?25h  Preparing metadata (setup.py) ... \u001b[?25l\u001b[?25hdone\n",
            "Requirement already satisfied: py4j==0.10.9.7 in /usr/local/lib/python3.10/dist-packages (from pyspark) (0.10.9.7)\n",
            "Building wheels for collected packages: pyspark\n",
            "  Building wheel for pyspark (setup.py) ... \u001b[?25l\u001b[?25hdone\n",
            "  Created wheel for pyspark: filename=pyspark-3.5.0-py2.py3-none-any.whl size=317425344 sha256=50f6488bf4773cdf97a136334937382f0899a29213f35e6251ef869c5277abe3\n",
            "  Stored in directory: /root/.cache/pip/wheels/41/4e/10/c2cf2467f71c678cfc8a6b9ac9241e5e44a01940da8fbb17fc\n",
            "Successfully built pyspark\n",
            "Installing collected packages: pyspark\n",
            "Successfully installed pyspark-3.5.0\n"
          ]
        }
      ]
    },
    {
      "cell_type": "code",
      "source": [
        "\n",
        "from pyspark.sql import SparkSession\n",
        "from pyspark.ml.feature import Tokenizer, StopWordsRemover, CountVectorizer\n",
        "from pyspark.ml.classification import LogisticRegression\n",
        "from pyspark.ml import Pipeline\n",
        "from pyspark.sql.functions import lit\n",
        "\n",
        "\n",
        "\n",
        "# Khởi tạo một phiên Spark\n",
        "spark = SparkSession.builder.appName(\"TextClassification\").getOrCreate()\n",
        "\n",
        "# Tạo tập dữ liệu huấn luyện\n",
        "train_data = [\n",
        "    (\"Tôi bị bệnh đau đầu, chóng mặt\", 1),\n",
        "    (\"tôi muốn mua áo mới\", 0),\n",
        "    (\"tôi cần uống thuốc do tôi bị bệnh mãn tính\", 1),\n",
        "    (\"tôi cần học bài nếu bởi vì John không chịu giúp đỡ tôi\", 3),\n",
        "    (\"Tôi muốn mua thực phẩm để nấu ăn\", 0),\n",
        "    (\"tôi cần một tài xế để đưa tôi đến bệnh viện\", 3),\n",
        "    (\"Tôi muốn mua một chiếc điện thoại mới\", 0),\n",
        "    (\"tôi đau bên cánh tay và cần tham khảo ý kiến bác sĩ\", 1),\n",
        "    (\"tôi cần thuê một người để làm việc nhà\", 3),\n",
        "    (\"Tôi muốn mua một vé máy bay\", 0),\n",
        "    (\"tôi cần sửa chữa máy tính của tôi\", 3),\n",
        "    (\"tôi bị sốt và ho cả ngày, cần mua thuốc\", 1),\n",
        "    (\"tôi muốn mua một cuốn sách mới\", 0),\n",
        "    (\"tôi cần học cách nấu món ăn mới\", 3),\n",
        "    (\"tôi cần người để sửa máy lạnh\", 3),\n",
        "    (\"tôi đang sốt và có triệu chứng đau họng\", 1),\n",
        "    (\"tôi muốn mua một bộ quần áo thể thao mới\", 0),\n",
        "    (\"tôi cần học tiếng Anh để du lịch\", 3),\n",
        "    (\"tôi muốn mua một món quà cho ngày sinh nhật của bạn\", 0),\n",
        "    (\"tôi đang ho và có triệu chứng viêm họng\", 1),\n",
        "    (\"tôi cần thuê một lái xe để đưa tôi đến sân bay\", 3),\n",
        "    (\"tôi muốn mua một cặp giày thể thao\", 0),\n",
        "    (\"tôi đang sốt và mệt mỏi\", 1),\n",
        "    (\"tôi cần người giúp việc trong nhà\", 3),\n",
        "    (\"tôi muốn mua một điện thoại di động mới\", 0),\n",
        "    (\"tôi cần học làm bánh để chuẩn bị cho bữa tiệc\", 3),\n",
        "    (\"tôi muốn mua một chiếc đồng hồ mới\", 0),\n",
        "    (\"tôi cần người để vận chuyển hàng hóa\", 3),\n",
        "    (\"tôi muốn mua một cái laptop mới\", 0),\n",
        "    (\"tôi đang bị đau bên hông và cần xem bác sĩ\", 1),\n",
        "    (\"tôi cần thuê một chuyên gia sửa máy tính\", 3),\n",
        "    (\"tôi muốn mua vé máy bay đi du lịch\", 0),\n",
        "    (\"tôi đang thất nghiệp và cần tìm việc làm\", 3),\n",
        "    (\"tôi cần mua thức ăn cho mèo cưng\", 0),\n",
        "    (\"tôi muốn mua một cuốn sách mới\", 0),\n",
        "    (\"tôi cần người giúp việc làm sạch nhà cửa\", 3),\n",
        "    (\"tôi đang có triệu chứng sốt cao và ho khan\", 1),\n",
        "    (\"tôi cần thuê một lái xe đưa tôi đến sân bay\", 3),\n",
        "]\n",
        "\n",
        "# Tạo DataFrame từ tập dữ liệu huấn luyện\n",
        "train_df = spark.createDataFrame(train_data, [\"text\", \"label\"])\n",
        "\n",
        "# Tiền xử lý dữ liệu\n",
        "tokenizer = Tokenizer(inputCol=\"text\", outputCol=\"words\")\n",
        "stop_words_remover = StopWordsRemover(inputCol=\"words\", outputCol=\"filtered_words\")\n",
        "vectorizer = CountVectorizer(inputCol=\"filtered_words\", outputCol=\"features\")\n",
        "lr = LogisticRegression(featuresCol=\"features\", labelCol=\"label\")\n",
        "\n",
        "# Tạo một pipeline\n",
        "pipeline = Pipeline(stages=[tokenizer, stop_words_remover, vectorizer, lr])\n",
        "\n",
        "# Huấn luyện mô hình\n",
        "model = pipeline.fit(train_df)\n",
        "\n",
        "# Tập dữ liệu cần dự đoán\n",
        "test_data = [\n",
        "    \"tôi cần mua áo và máy tính cho ngày mai\",\n",
        "    \"tôi đang bị sốt cao và không biết khi nào thì đau đầu mới hết\",\n",
        "    \"tôi đang khỏe hơn sau dần 3 ngày bị bệnh\",\n",
        "    \"tôi đang thất nghiệp sau hai tháng làm việc\",\n",
        "]\n",
        "\n",
        "# Tạo DataFrame từ tập dữ liệu dự đoán\n",
        "test_df = spark.createDataFrame([(text, 0) for text in test_data], [\"text\", \"label\"])\n",
        "\n",
        "# Dự đoán\n",
        "predictions = model.transform(test_df)\n",
        "\n",
        "# Hiển thị kết quả\n",
        "predictions.select(\"text\", \"prediction\").show()\n",
        "\n"
      ],
      "metadata": {
        "colab": {
          "base_uri": "https://localhost:8080/"
        },
        "id": "PFoRxRUq6z2G",
        "outputId": "1f8ce463-422c-4ef8-aed3-c8ed9effdd79"
      },
      "execution_count": null,
      "outputs": [
        {
          "output_type": "stream",
          "name": "stdout",
          "text": [
            "+--------------------+----------+\n",
            "|                text|prediction|\n",
            "+--------------------+----------+\n",
            "|tôi cần mua áo và...|       0.0|\n",
            "|tôi đang bị sốt c...|       1.0|\n",
            "|tôi đang khỏe hơn...|       1.0|\n",
            "|tôi đang thất ngh...|       3.0|\n",
            "+--------------------+----------+\n",
            "\n"
          ]
        }
      ]
    },
    {
      "cell_type": "code",
      "source": [],
      "metadata": {
        "id": "OX_7pte6n5yr"
      },
      "execution_count": null,
      "outputs": []
    }
  ]
}